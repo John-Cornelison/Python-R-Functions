{
 "cells": [
  {
   "cell_type": "markdown",
   "id": "5910d8f4",
   "metadata": {},
   "source": [
    "### Python Functions"
   ]
  },
  {
   "cell_type": "code",
   "execution_count": 2,
   "id": "36435beb",
   "metadata": {},
   "outputs": [],
   "source": [
    "###Returning Dataframe of missing values"
   ]
  },
  {
   "cell_type": "code",
   "execution_count": 1,
   "id": "8770c8c5",
   "metadata": {},
   "outputs": [],
   "source": [
    "# Returning Dataframe of missing values\n",
    "\n",
    "#This dataframe takes a list of columns, then splits the dataframe into two. the first dataframe is of rows that contain\n",
    "#a null value for anyone of the columns. The second dataframe is all the other rows that don't\n",
    "\n",
    "def splitDF(df, list_col_names):\n",
    "    na_mask = df[[list_col_names]].isna().any(axis=1)\n",
    "    rows_with_nan = df[na_mask].index.tolist()\n",
    "    na_df = df.filter(items = rows_with_nan, axis = 0)\n",
    "    other_df = df.loc[~df.index.isin(rows_with_nan)]\n",
    "    return na_df, other_df"
   ]
  },
  {
   "cell_type": "code",
   "execution_count": null,
   "id": "973c0e4a-0bfd-4f1b-ae57-75eda774f3c2",
   "metadata": {},
   "outputs": [],
   "source": [
    "def splitDfByDuplicates(df, list_col_names)"
   ]
  }
 ],
 "metadata": {
  "kernelspec": {
   "display_name": "Python 3",
   "language": "python",
   "name": "python3"
  },
  "language_info": {
   "codemirror_mode": {
    "name": "ipython",
    "version": 3
   },
   "file_extension": ".py",
   "mimetype": "text/x-python",
   "name": "python",
   "nbconvert_exporter": "python",
   "pygments_lexer": "ipython3",
   "version": "3.8.8"
  }
 },
 "nbformat": 4,
 "nbformat_minor": 5
}
