{
 "cells": [
  {
   "cell_type": "markdown",
   "id": "5910d8f4",
   "metadata": {},
   "source": [
    "### Python Functions"
   ]
  },
  {
   "cell_type": "code",
   "execution_count": 2,
   "id": "36435beb",
   "metadata": {},
   "outputs": [],
   "source": [
    "###Returning Dataframe of missing values"
   ]
  },
  {
   "cell_type": "code",
   "execution_count": 1,
   "id": "8770c8c5",
   "metadata": {},
   "outputs": [],
   "source": [
    "# Returning Dataframe of missing values\n",
    "\n",
    "#This dataframe takes a list of columns, then splits the dataframe into two. the first dataframe is of rows that contain\n",
    "#a null value for anyone of the columns. The second dataframe is all the other rows that don't\n",
    "\n",
    "def splitDF(df, list_col_names):\n",
    "    na_mask = df[[list_col_names]].isna().any(axis=1)\n",
    "    rows_with_nan = df[na_mask].index.tolist()\n",
    "    na_df = df.filter(items = rows_with_nan, axis = 0)\n",
    "    other_df = df.loc[~df.index.isin(rows_with_nan)]\n",
    "    return na_df, other_df"
   ]
  },
  {
   "cell_type": "code",
   "execution_count": 1,
   "id": "973c0e4a-0bfd-4f1b-ae57-75eda774f3c2",
   "metadata": {},
   "outputs": [],
   "source": [
    "def splitDfByString(df, col_name, string):\n",
    "    string_df = df[df[col_name].str.contains(string)]\n",
    "    other_df = df[~df[col_name].str.contains(string)]\n",
    "    return string_df, other_df"
   ]
  },
  {
   "cell_type": "code",
   "execution_count": 2,
   "id": "cfdf7874-2156-4344-820b-30b90ee49cb9",
   "metadata": {},
   "outputs": [],
   "source": [
    "def removeStringByIndex(new_list, df, second_df, col_name, num):\n",
    "    new_list = []\n",
    "    for i in df[col_name].str.split():\n",
    "        new_street = \" \".join(i[:-num])\n",
    "        new_list.append(new_street)\n",
    "    df[col_name] = new_list\n",
    "    new_df = pd.concat([df, second_df])\n",
    "    return new_df"
   ]
  },
  {
   "cell_type": "code",
   "execution_count": 1,
   "id": "987ac415-0d92-4067-9730-2e7592d03406",
   "metadata": {},
   "outputs": [],
   "source": [
    "def repWordsInCol(dictionary, df, col_name):\n",
    "    new_col = df[col_name]\n",
    "    for key, values in dictionary.items():\n",
    "        for value in values:\n",
    "            new_col = new_col.str.replace(value, key)\n",
    "    return new_col"
   ]
  },
  {
   "cell_type": "code",
   "execution_count": null,
   "id": "a1074ed6-04a7-46bb-9b52-dabf0db74cbb",
   "metadata": {},
   "outputs": [],
   "source": [
    "#Usefull code for checking whether one list is in another master list\n",
    "for i in KY_Cats_17[\"Colony_Zip\"].value_counts().index.tolist():\n",
    "    if i in KY_and_IN[\"zip\"].value_counts().index.tolist():\n",
    "        print(True)\n",
    "    else:\n",
    "        print(i)"
   ]
  },
  {
   "cell_type": "code",
   "execution_count": null,
   "id": "39c89a00-2352-4b69-947b-a3534824f1ca",
   "metadata": {},
   "outputs": [],
   "source": [
    "#Function that will return a dataframe of number of occurences of substrings in a character column\n",
    "from nltk.tokenize import word_tokenize\n",
    "import numpy as np\n",
    "import pandas as pd\n",
    "\n",
    "def countWords(df, col_name):\n",
    "    word_list = []\n",
    "\n",
    "    for i in df[col_name]:\n",
    "        words = word_tokenize(i)\n",
    "        for word in words:\n",
    "            word_list.append(word)\n",
    "\n",
    "    word_ar = np.array(word_list)\n",
    "    \n",
    "    word_count = np.unique(word_ar, return_counts = True)\n",
    "    unique_words = word_count[0]\n",
    "    word_count_dict = {'word':word_count[0], 'count':word_count[1]}\n",
    "    word_count_df = pd.DataFrame(word_count_dict).sort_values(by = 'count', ascending = False)\n",
    "    \n",
    "    return word_count_df"
   ]
  }
 ],
 "metadata": {
  "kernelspec": {
   "display_name": "Python 3",
   "language": "python",
   "name": "python3"
  },
  "language_info": {
   "codemirror_mode": {
    "name": "ipython",
    "version": 3
   },
   "file_extension": ".py",
   "mimetype": "text/x-python",
   "name": "python",
   "nbconvert_exporter": "python",
   "pygments_lexer": "ipython3",
   "version": "3.8.8"
  }
 },
 "nbformat": 4,
 "nbformat_minor": 5
}
