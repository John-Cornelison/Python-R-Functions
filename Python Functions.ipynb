{
 "cells": [
  {
   "cell_type": "markdown",
   "id": "5910d8f4",
   "metadata": {},
   "source": [
    "### Python Functions"
   ]
  },
  {
   "cell_type": "code",
   "execution_count": 2,
   "id": "36435beb",
   "metadata": {},
   "outputs": [],
   "source": [
    "###Returning Dataframe of missing values"
   ]
  },
  {
   "cell_type": "code",
   "execution_count": 1,
   "id": "8770c8c5",
   "metadata": {},
   "outputs": [],
   "source": [
    "# Returning Dataframe of missing values\n",
    "\n",
    "#This dataframe takes a list of columns, then splits the dataframe into two. the first dataframe is of rows that contain\n",
    "#a null value for anyone of the columns. The second dataframe is all the other rows that don't\n",
    "## list_of_col_names needs to be written like [col, col, ...]\n",
    "\n",
    "def splitDF(df, list_col_names):\n",
    "    na_mask = df[list_col_names].isna().any(axis=1)\n",
    "    rows_with_nan = df[na_mask].index.tolist()\n",
    "    na_df = df.filter(items = rows_with_nan, axis = 0)\n",
    "    other_df = df.loc[~df.index.isin(rows_with_nan)]\n",
    "    return na_df, other_df"
   ]
  },
  {
   "cell_type": "code",
   "execution_count": 1,
   "id": "973c0e4a-0bfd-4f1b-ae57-75eda774f3c2",
   "metadata": {},
   "outputs": [],
   "source": [
    "def splitDfByString(df, col_name, string):\n",
    "    string_df = df[df[col_name].str.contains(string)]\n",
    "    other_df = df[~df[col_name].str.contains(string)]\n",
    "    return string_df, other_df"
   ]
  },
  {
   "cell_type": "code",
   "execution_count": 2,
   "id": "cfdf7874-2156-4344-820b-30b90ee49cb9",
   "metadata": {},
   "outputs": [],
   "source": [
    "def removeStringByIndex(new_list, df, second_df, col_name, num):\n",
    "    new_list = []\n",
    "    for i in df[col_name].str.split():\n",
    "        new_street = \" \".join(i[:-num])\n",
    "        new_list.append(new_street)\n",
    "    df[col_name] = new_list\n",
    "    new_df = pd.concat([df, second_df])\n",
    "    return new_df"
   ]
  },
  {
   "cell_type": "code",
   "execution_count": 1,
   "id": "987ac415-0d92-4067-9730-2e7592d03406",
   "metadata": {},
   "outputs": [],
   "source": [
    "def repWordsInCol(dictionary, df, col_name):\n",
    "    new_col = df[col_name]\n",
    "    for key, values in dictionary.items():\n",
    "        for value in values:\n",
    "            new_col = new_col.str.replace(value, key)\n",
    "    return new_col"
   ]
  },
  {
   "cell_type": "code",
   "execution_count": null,
   "id": "a1074ed6-04a7-46bb-9b52-dabf0db74cbb",
   "metadata": {},
   "outputs": [],
   "source": [
    "#Usefull code for checking whether one list is in another master list\n",
    "for i in KY_Cats_17[\"Colony_Zip\"].value_counts().index.tolist():\n",
    "    if i in KY_and_IN[\"zip\"].value_counts().index.tolist():\n",
    "        print(True)\n",
    "    else:\n",
    "        print(i)"
   ]
  },
  {
   "cell_type": "code",
   "execution_count": null,
   "id": "39c89a00-2352-4b69-947b-a3534824f1ca",
   "metadata": {},
   "outputs": [],
   "source": [
    "#Function that will return a dataframe of number of occurences of substrings in a character column\n",
    "from nltk.tokenize import word_tokenize\n",
    "import numpy as np\n",
    "import pandas as pd\n",
    "\n",
    "def countWords(df, col_name):\n",
    "    word_list = []\n",
    "\n",
    "    for i in df[col_name]:\n",
    "        words = word_tokenize(i)\n",
    "        for word in words:\n",
    "            word_list.append(word)\n",
    "\n",
    "    word_ar = np.array(word_list)\n",
    "    \n",
    "    word_count = np.unique(word_ar, return_counts = True)\n",
    "    unique_words = word_count[0]\n",
    "    word_count_dict = {'word':word_count[0], 'count':word_count[1]}\n",
    "    word_count_df = pd.DataFrame(word_count_dict).sort_values(by = 'count', ascending = False)\n",
    "    \n",
    "    return word_count_df"
   ]
  },
  {
   "cell_type": "code",
   "execution_count": 1,
   "id": "ff350970-88da-4420-bdc9-eda4dd787b73",
   "metadata": {},
   "outputs": [],
   "source": [
    "#Function to remove punctuation\n",
    "import string\n",
    "\n",
    "def remove_punct(words):\n",
    "    for letr in words:\n",
    "        \n",
    "        if letr == '’':\n",
    "            words = words.replace(letr, \"\")\n",
    "        elif letr == '-':\n",
    "            words = words.replace(letr, \" \")\n",
    "        elif letr == '_':\n",
    "            words = words.replace(letr, \" \")\n",
    "        elif letr in string.punctuation:\n",
    "            words = words.replace(letr, \"\")\n",
    "    return words"
   ]
  },
  {
   "cell_type": "code",
   "execution_count": null,
   "id": "6593b257-b219-4e70-ab59-a3e7a9e2c8ab",
   "metadata": {},
   "outputs": [],
   "source": [
    "#Function to calculate the inflation adjusted amount for years\n",
    "\n",
    "def cpi_year_inflate(value, start_year):\n",
    "    start_year_df = cpi_index[cpi_index[\"Year\"] == start_year]\n",
    "    current_year_df = cpi_index[cpi_index[\"Year\"] == 2023]\n",
    "    interest_rate = current_year_df[\"Nov\"].values[0]/start_year_df[\"Jan\"].values[0]\n",
    "    new_value = value*interest_rate\n",
    "    \n",
    "    return(new_value)"
   ]
  },
  {
   "cell_type": "code",
   "execution_count": 4,
   "id": "6f3ef918-6c2e-43b7-a29b-d815f39b268e",
   "metadata": {},
   "outputs": [
    {
     "data": {
      "text/plain": [
       "0.06245732046031509"
      ]
     },
     "execution_count": 4,
     "metadata": {},
     "output_type": "execute_result"
    }
   ],
   "source": [
    "#Calculates p value for fishers exact test\n",
    "from math import factorial\n",
    "\n",
    "# Assigning values to variables\n",
    "a = 4\n",
    "b = 13\n",
    "c = 84\n",
    "d = 764\n",
    "n = a + b + c + d\n",
    "\n",
    "# Calculating the probability using the Fisher's Exact Test formula\n",
    "P = factorial(a + b) * factorial(c + d) * factorial(a + c) * factorial(b + d) / (factorial(a) * factorial(b) * factorial(c) * factorial(d) * factorial(n))\n",
    "P\n"
   ]
  },
  {
   "cell_type": "code",
   "execution_count": 7,
   "id": "2f2f05ec-344b-4d23-b6f6-cc5b3a2c21ee",
   "metadata": {},
   "outputs": [
    {
     "name": "stdout",
     "output_type": "stream",
     "text": [
      "Odds Ratio: 0.0, P-value: 0.7786628733997147\n"
     ]
    }
   ],
   "source": [
    "import scipy.stats as stats\n",
    "\n",
    "# Your 2x2 contingency table data\n",
    "table = [[0, 3], [6, 67]]\n",
    "\n",
    "# Perform Fisher's Exact Test\n",
    "odds_ratio, p_value = stats.fisher_exact(table, alternative = \"less\")\n",
    "\n",
    "print(f\"Odds Ratio: {odds_ratio}, P-value: {p_value}\")\n"
   ]
  },
  {
   "cell_type": "code",
   "execution_count": null,
   "id": "3e428f4e-0633-4918-a315-fb5a222c373b",
   "metadata": {},
   "outputs": [],
   "source": [
    "def replaceYesNo(df, col_name):\n",
    "    df[col_name] = df[col_name].replace({1:\"No\",\n",
    "                                         2:\"Yes\"})\n"
   ]
  },
  {
   "cell_type": "code",
   "execution_count": 1,
   "id": "166be674-929d-4e0e-a160-6778111ebb9b",
   "metadata": {
    "tags": []
   },
   "outputs": [],
   "source": [
    "def replaceAgree(df, col_name):\n",
    "    df[col_name] = df[col_name].replace({1:\"Strongly disagree\",\n",
    "                                         2:\"Somewhat disagree\",\n",
    "                                         3:\"Neither\",\n",
    "                                         4:\"Somewhat agree\",\n",
    "                                         5:\"Strongly agree\"})\n",
    "                                          "
   ]
  }
 ],
 "metadata": {
  "kernelspec": {
   "display_name": "Python 3 (ipykernel)",
   "language": "python",
   "name": "python3"
  },
  "language_info": {
   "codemirror_mode": {
    "name": "ipython",
    "version": 3
   },
   "file_extension": ".py",
   "mimetype": "text/x-python",
   "name": "python",
   "nbconvert_exporter": "python",
   "pygments_lexer": "ipython3",
   "version": "3.11.5"
  }
 },
 "nbformat": 4,
 "nbformat_minor": 5
}
